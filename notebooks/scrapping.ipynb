{
 "cells": [
  {
   "cell_type": "code",
   "execution_count": 65,
   "id": "26814812",
   "metadata": {},
   "outputs": [],
   "source": [
    "import requests\n",
    "import time\n",
    "from bs4 import BeautifulSoup\n",
    "from multiprocessing.pool import ThreadPool\n",
    "\n",
    "from selenium import webdriver\n",
    "from selenium.webdriver.common.keys import Keys\n",
    "from selenium.webdriver.common.by import By"
   ]
  },
  {
   "cell_type": "code",
   "execution_count": 66,
   "id": "d3795ca2",
   "metadata": {},
   "outputs": [],
   "source": [
    "def get_driver():\n",
    "    options = webdriver.ChromeOptions()\n",
    "    options.add_argument(\"--headless\")\n",
    "    driver = webdriver.Chrome('../bins/chromedriver', options = options)\n",
    "    return driver\n",
    "#https://chromedriver.storage.googleapis.com/95.0.4638.69/chromedriver_mac64_m1.zip\n",
    "#https://chromedriver.storage.googleapis.com/95.0.4638.69/chromedriver_linux64.zip"
   ]
  },
  {
   "cell_type": "code",
   "execution_count": 75,
   "id": "ccc3bc79",
   "metadata": {},
   "outputs": [],
   "source": [
    "def get_paths(path):\n",
    "    driver = get_driver()\n",
    "    driver.get(path)\n",
    "    \n",
    "    match_paths = list(map(lambda x: x.get_dom_attribute('href'), \n",
    "                           driver.find_elements(By.CLASS_NAME, 'ind_match_wrapper')))\n",
    "    match_paths = match_paths[1:]\n",
    "    match_paths = list(map(lambda x: 'https://www.xscores.com/' + x, match_paths))\n",
    "    teams = list(map(lambda x: x.split('/')[-3].split('-vs-'), match_paths))\n",
    "    \n",
    "    driver.close()\n",
    "    driver.quit()\n",
    "    return match_paths, teams\n",
    "\n",
    "# def get_stats(paths):\n",
    "#     for match_path in paths:\n",
    "#         driver = get_driver()\n",
    "#         driver.get(match_path)\n",
    "        \n",
    "#         driver.close()\n",
    "#         driver.quit()\n",
    "    \n",
    "def get_info(path):\n",
    "    driver = get_driver()\n",
    "    driver.get(path)\n",
    "        \n",
    "    date = driver.find_element(By.CLASS_NAME, 'match_details_date').text\n",
    "    bets = driver.find_element(By.CLASS_NAME, 'mDetails-odds').text.split('\\n')[1::2]\n",
    "        \n",
    "    driver.close()\n",
    "    driver.quit()\n",
    "    return date, bets\n",
    "    \n",
    "def get_stats(paths):\n",
    "    with ThreadPool(40) as p:\n",
    "        results = p.map(get_info, paths)\n",
    "    return results"
   ]
  },
  {
   "cell_type": "code",
   "execution_count": 76,
   "id": "f513f809",
   "metadata": {},
   "outputs": [
    {
     "name": "stderr",
     "output_type": "stream",
     "text": [
      "/var/folders/lm/flgwr_ks0cn6xv9bcn3f_d2m0000gn/T/ipykernel_72511/1996232620.py:4: DeprecationWarning: executable_path has been deprecated, please pass in a Service object\n",
      "  driver = webdriver.Chrome('../bins/chromedriver', options = options)\n"
     ]
    },
    {
     "name": "stdout",
     "output_type": "stream",
     "text": [
      "--- 4.7816948890686035 seconds ---\n"
     ]
    }
   ],
   "source": [
    "path = 'https://www.xscores.com/soccer/england/premier-league'\n",
    "paths, teams = get_paths(path)\n",
    "start_time = time.time()\n",
    "stats = get_stats(paths)\n",
    "data = list(zip(teams, stats))\n",
    "print(\"--- %s seconds ---\" % (time.time() - start_time))"
   ]
  },
  {
   "cell_type": "code",
   "execution_count": 81,
   "id": "29f36327",
   "metadata": {},
   "outputs": [],
   "source": [
    "(homeTeam, AwayTeam), (date, bets) = data[0]"
   ]
  },
  {
   "cell_type": "code",
   "execution_count": 89,
   "id": "f0515d2b",
   "metadata": {},
   "outputs": [
    {
     "data": {
      "text/plain": [
       "'Leicester'"
      ]
     },
     "execution_count": 89,
     "metadata": {},
     "output_type": "execute_result"
    }
   ],
   "source": [
    "data[0][0][0].title()"
   ]
  },
  {
   "cell_type": "code",
   "execution_count": null,
   "id": "6a276d2d",
   "metadata": {},
   "outputs": [],
   "source": []
  }
 ],
 "metadata": {
  "kernelspec": {
   "display_name": "Python 3 (ipykernel)",
   "language": "python",
   "name": "python3"
  },
  "language_info": {
   "codemirror_mode": {
    "name": "ipython",
    "version": 3
   },
   "file_extension": ".py",
   "mimetype": "text/x-python",
   "name": "python",
   "nbconvert_exporter": "python",
   "pygments_lexer": "ipython3",
   "version": "3.9.7"
  }
 },
 "nbformat": 4,
 "nbformat_minor": 5
}
