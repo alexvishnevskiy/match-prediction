{
 "cells": [
  {
   "cell_type": "code",
   "execution_count": 1,
   "id": "f6a2bc43",
   "metadata": {},
   "outputs": [],
   "source": [
    "import numpy as np\n",
    "import pandas as pd\n",
    "import sklearn.datasets as datasets\n",
    "from sklearn.model_selection import train_test_split, TimeSeriesSplit, KFold\n",
    "from sklearn import linear_model\n",
    "from sklearn.metrics import f1_score, accuracy_score\n",
    "from joblib import dump, load\n",
    "from functools import reduce\n",
    "from collections import defaultdict\n",
    "from sklearn.preprocessing import LabelEncoder\n",
    "from sklearn.ensemble import RandomForestClassifier\n",
    "from lightgbm import LGBMClassifier"
   ]
  },
  {
   "cell_type": "code",
   "execution_count": 2,
   "id": "bfc63ce3",
   "metadata": {},
   "outputs": [],
   "source": [
    "WINDOW_SIZE = 5\n",
    "VAL_SIZE = 0.2"
   ]
  },
  {
   "cell_type": "code",
   "execution_count": 3,
   "id": "0f370861",
   "metadata": {
    "collapsed": true
   },
   "outputs": [
    {
     "ename": "FileNotFoundError",
     "evalue": "[Errno 2] No such file or directory: '../data/2016-2017.txt'",
     "output_type": "error",
     "traceback": [
      "\u001b[0;31m---------------------------------------------------------------------------\u001b[0m",
      "\u001b[0;31mFileNotFoundError\u001b[0m                         Traceback (most recent call last)",
      "\u001b[0;32m/var/folders/lm/flgwr_ks0cn6xv9bcn3f_d2m0000gn/T/ipykernel_80795/471201593.py\u001b[0m in \u001b[0;36m<module>\u001b[0;34m\u001b[0m\n\u001b[1;32m      4\u001b[0m \u001b[0mdata_2018_2019\u001b[0m \u001b[0;34m=\u001b[0m \u001b[0mpd\u001b[0m\u001b[0;34m.\u001b[0m\u001b[0mread_csv\u001b[0m\u001b[0;34m(\u001b[0m\u001b[0;34m'https://query.data.world/s/2wp65h24cyeljfcp4dnvsml46dwsla'\u001b[0m\u001b[0;34m)\u001b[0m\u001b[0;34m.\u001b[0m\u001b[0mdrop\u001b[0m\u001b[0;34m(\u001b[0m\u001b[0mcolumns\u001b[0m \u001b[0;34m=\u001b[0m \u001b[0;34m[\u001b[0m\u001b[0;34m'Div'\u001b[0m\u001b[0;34m]\u001b[0m\u001b[0;34m)\u001b[0m\u001b[0;34m\u001b[0m\u001b[0;34m\u001b[0m\u001b[0m\n\u001b[1;32m      5\u001b[0m \u001b[0;34m\u001b[0m\u001b[0m\n\u001b[0;32m----> 6\u001b[0;31m \u001b[0mdata_more\u001b[0m \u001b[0;34m=\u001b[0m \u001b[0mpd\u001b[0m\u001b[0;34m.\u001b[0m\u001b[0mconcat\u001b[0m\u001b[0;34m(\u001b[0m\u001b[0;34m[\u001b[0m\u001b[0mpd\u001b[0m\u001b[0;34m.\u001b[0m\u001b[0mread_csv\u001b[0m\u001b[0;34m(\u001b[0m\u001b[0;34mf'../data/{path}'\u001b[0m\u001b[0;34m,\u001b[0m \u001b[0msep\u001b[0m \u001b[0;34m=\u001b[0m \u001b[0;34m','\u001b[0m\u001b[0;34m)\u001b[0m \u001b[0;32mfor\u001b[0m \u001b[0mpath\u001b[0m \u001b[0;32min\u001b[0m \u001b[0;34m[\u001b[0m\u001b[0;34m'2016-2017.txt'\u001b[0m\u001b[0;34m,\u001b[0m \u001b[0;34m'2017-2018.txt'\u001b[0m\u001b[0;34m,\u001b[0m \u001b[0;34m'2018-2019.txt'\u001b[0m\u001b[0;34m]\u001b[0m\u001b[0;34m]\u001b[0m\u001b[0;34m)\u001b[0m\u001b[0;34m\u001b[0m\u001b[0;34m\u001b[0m\u001b[0m\n\u001b[0m\u001b[1;32m      7\u001b[0m \u001b[0mdata_more\u001b[0m\u001b[0;34m[\u001b[0m\u001b[0;34m'Date'\u001b[0m\u001b[0;34m]\u001b[0m \u001b[0;34m=\u001b[0m \u001b[0mpd\u001b[0m\u001b[0;34m.\u001b[0m\u001b[0mto_datetime\u001b[0m\u001b[0;34m(\u001b[0m\u001b[0mdata_more\u001b[0m\u001b[0;34m[\u001b[0m\u001b[0;34m'Date'\u001b[0m\u001b[0;34m]\u001b[0m\u001b[0;34m)\u001b[0m\u001b[0;34m\u001b[0m\u001b[0;34m\u001b[0m\u001b[0m\n\u001b[1;32m      8\u001b[0m \u001b[0mdata_more\u001b[0m \u001b[0;34m=\u001b[0m \u001b[0mdata_more\u001b[0m\u001b[0;34m.\u001b[0m\u001b[0msort_values\u001b[0m\u001b[0;34m(\u001b[0m\u001b[0;34m'Date'\u001b[0m\u001b[0;34m)\u001b[0m\u001b[0;34m\u001b[0m\u001b[0;34m\u001b[0m\u001b[0m\n",
      "\u001b[0;32m/var/folders/lm/flgwr_ks0cn6xv9bcn3f_d2m0000gn/T/ipykernel_80795/471201593.py\u001b[0m in \u001b[0;36m<listcomp>\u001b[0;34m(.0)\u001b[0m\n\u001b[1;32m      4\u001b[0m \u001b[0mdata_2018_2019\u001b[0m \u001b[0;34m=\u001b[0m \u001b[0mpd\u001b[0m\u001b[0;34m.\u001b[0m\u001b[0mread_csv\u001b[0m\u001b[0;34m(\u001b[0m\u001b[0;34m'https://query.data.world/s/2wp65h24cyeljfcp4dnvsml46dwsla'\u001b[0m\u001b[0;34m)\u001b[0m\u001b[0;34m.\u001b[0m\u001b[0mdrop\u001b[0m\u001b[0;34m(\u001b[0m\u001b[0mcolumns\u001b[0m \u001b[0;34m=\u001b[0m \u001b[0;34m[\u001b[0m\u001b[0;34m'Div'\u001b[0m\u001b[0;34m]\u001b[0m\u001b[0;34m)\u001b[0m\u001b[0;34m\u001b[0m\u001b[0;34m\u001b[0m\u001b[0m\n\u001b[1;32m      5\u001b[0m \u001b[0;34m\u001b[0m\u001b[0m\n\u001b[0;32m----> 6\u001b[0;31m \u001b[0mdata_more\u001b[0m \u001b[0;34m=\u001b[0m \u001b[0mpd\u001b[0m\u001b[0;34m.\u001b[0m\u001b[0mconcat\u001b[0m\u001b[0;34m(\u001b[0m\u001b[0;34m[\u001b[0m\u001b[0mpd\u001b[0m\u001b[0;34m.\u001b[0m\u001b[0mread_csv\u001b[0m\u001b[0;34m(\u001b[0m\u001b[0;34mf'../data/{path}'\u001b[0m\u001b[0;34m,\u001b[0m \u001b[0msep\u001b[0m \u001b[0;34m=\u001b[0m \u001b[0;34m','\u001b[0m\u001b[0;34m)\u001b[0m \u001b[0;32mfor\u001b[0m \u001b[0mpath\u001b[0m \u001b[0;32min\u001b[0m \u001b[0;34m[\u001b[0m\u001b[0;34m'2016-2017.txt'\u001b[0m\u001b[0;34m,\u001b[0m \u001b[0;34m'2017-2018.txt'\u001b[0m\u001b[0;34m,\u001b[0m \u001b[0;34m'2018-2019.txt'\u001b[0m\u001b[0;34m]\u001b[0m\u001b[0;34m]\u001b[0m\u001b[0;34m)\u001b[0m\u001b[0;34m\u001b[0m\u001b[0;34m\u001b[0m\u001b[0m\n\u001b[0m\u001b[1;32m      7\u001b[0m \u001b[0mdata_more\u001b[0m\u001b[0;34m[\u001b[0m\u001b[0;34m'Date'\u001b[0m\u001b[0;34m]\u001b[0m \u001b[0;34m=\u001b[0m \u001b[0mpd\u001b[0m\u001b[0;34m.\u001b[0m\u001b[0mto_datetime\u001b[0m\u001b[0;34m(\u001b[0m\u001b[0mdata_more\u001b[0m\u001b[0;34m[\u001b[0m\u001b[0;34m'Date'\u001b[0m\u001b[0;34m]\u001b[0m\u001b[0;34m)\u001b[0m\u001b[0;34m\u001b[0m\u001b[0;34m\u001b[0m\u001b[0m\n\u001b[1;32m      8\u001b[0m \u001b[0mdata_more\u001b[0m \u001b[0;34m=\u001b[0m \u001b[0mdata_more\u001b[0m\u001b[0;34m.\u001b[0m\u001b[0msort_values\u001b[0m\u001b[0;34m(\u001b[0m\u001b[0;34m'Date'\u001b[0m\u001b[0;34m)\u001b[0m\u001b[0;34m\u001b[0m\u001b[0;34m\u001b[0m\u001b[0m\n",
      "\u001b[0;32m~/miniforge3/envs/price-prediction/lib/python3.9/site-packages/pandas/util/_decorators.py\u001b[0m in \u001b[0;36mwrapper\u001b[0;34m(*args, **kwargs)\u001b[0m\n\u001b[1;32m    309\u001b[0m                     \u001b[0mstacklevel\u001b[0m\u001b[0;34m=\u001b[0m\u001b[0mstacklevel\u001b[0m\u001b[0;34m,\u001b[0m\u001b[0;34m\u001b[0m\u001b[0;34m\u001b[0m\u001b[0m\n\u001b[1;32m    310\u001b[0m                 )\n\u001b[0;32m--> 311\u001b[0;31m             \u001b[0;32mreturn\u001b[0m \u001b[0mfunc\u001b[0m\u001b[0;34m(\u001b[0m\u001b[0;34m*\u001b[0m\u001b[0margs\u001b[0m\u001b[0;34m,\u001b[0m \u001b[0;34m**\u001b[0m\u001b[0mkwargs\u001b[0m\u001b[0;34m)\u001b[0m\u001b[0;34m\u001b[0m\u001b[0;34m\u001b[0m\u001b[0m\n\u001b[0m\u001b[1;32m    312\u001b[0m \u001b[0;34m\u001b[0m\u001b[0m\n\u001b[1;32m    313\u001b[0m         \u001b[0;32mreturn\u001b[0m \u001b[0mwrapper\u001b[0m\u001b[0;34m\u001b[0m\u001b[0;34m\u001b[0m\u001b[0m\n",
      "\u001b[0;32m~/miniforge3/envs/price-prediction/lib/python3.9/site-packages/pandas/io/parsers/readers.py\u001b[0m in \u001b[0;36mread_csv\u001b[0;34m(filepath_or_buffer, sep, delimiter, header, names, index_col, usecols, squeeze, prefix, mangle_dupe_cols, dtype, engine, converters, true_values, false_values, skipinitialspace, skiprows, skipfooter, nrows, na_values, keep_default_na, na_filter, verbose, skip_blank_lines, parse_dates, infer_datetime_format, keep_date_col, date_parser, dayfirst, cache_dates, iterator, chunksize, compression, thousands, decimal, lineterminator, quotechar, quoting, doublequote, escapechar, comment, encoding, encoding_errors, dialect, error_bad_lines, warn_bad_lines, on_bad_lines, delim_whitespace, low_memory, memory_map, float_precision, storage_options)\u001b[0m\n\u001b[1;32m    584\u001b[0m     \u001b[0mkwds\u001b[0m\u001b[0;34m.\u001b[0m\u001b[0mupdate\u001b[0m\u001b[0;34m(\u001b[0m\u001b[0mkwds_defaults\u001b[0m\u001b[0;34m)\u001b[0m\u001b[0;34m\u001b[0m\u001b[0;34m\u001b[0m\u001b[0m\n\u001b[1;32m    585\u001b[0m \u001b[0;34m\u001b[0m\u001b[0m\n\u001b[0;32m--> 586\u001b[0;31m     \u001b[0;32mreturn\u001b[0m \u001b[0m_read\u001b[0m\u001b[0;34m(\u001b[0m\u001b[0mfilepath_or_buffer\u001b[0m\u001b[0;34m,\u001b[0m \u001b[0mkwds\u001b[0m\u001b[0;34m)\u001b[0m\u001b[0;34m\u001b[0m\u001b[0;34m\u001b[0m\u001b[0m\n\u001b[0m\u001b[1;32m    587\u001b[0m \u001b[0;34m\u001b[0m\u001b[0m\n\u001b[1;32m    588\u001b[0m \u001b[0;34m\u001b[0m\u001b[0m\n",
      "\u001b[0;32m~/miniforge3/envs/price-prediction/lib/python3.9/site-packages/pandas/io/parsers/readers.py\u001b[0m in \u001b[0;36m_read\u001b[0;34m(filepath_or_buffer, kwds)\u001b[0m\n\u001b[1;32m    480\u001b[0m \u001b[0;34m\u001b[0m\u001b[0m\n\u001b[1;32m    481\u001b[0m     \u001b[0;31m# Create the parser.\u001b[0m\u001b[0;34m\u001b[0m\u001b[0;34m\u001b[0m\u001b[0m\n\u001b[0;32m--> 482\u001b[0;31m     \u001b[0mparser\u001b[0m \u001b[0;34m=\u001b[0m \u001b[0mTextFileReader\u001b[0m\u001b[0;34m(\u001b[0m\u001b[0mfilepath_or_buffer\u001b[0m\u001b[0;34m,\u001b[0m \u001b[0;34m**\u001b[0m\u001b[0mkwds\u001b[0m\u001b[0;34m)\u001b[0m\u001b[0;34m\u001b[0m\u001b[0;34m\u001b[0m\u001b[0m\n\u001b[0m\u001b[1;32m    483\u001b[0m \u001b[0;34m\u001b[0m\u001b[0m\n\u001b[1;32m    484\u001b[0m     \u001b[0;32mif\u001b[0m \u001b[0mchunksize\u001b[0m \u001b[0;32mor\u001b[0m \u001b[0miterator\u001b[0m\u001b[0;34m:\u001b[0m\u001b[0;34m\u001b[0m\u001b[0;34m\u001b[0m\u001b[0m\n",
      "\u001b[0;32m~/miniforge3/envs/price-prediction/lib/python3.9/site-packages/pandas/io/parsers/readers.py\u001b[0m in \u001b[0;36m__init__\u001b[0;34m(self, f, engine, **kwds)\u001b[0m\n\u001b[1;32m    809\u001b[0m             \u001b[0mself\u001b[0m\u001b[0;34m.\u001b[0m\u001b[0moptions\u001b[0m\u001b[0;34m[\u001b[0m\u001b[0;34m\"has_index_names\"\u001b[0m\u001b[0;34m]\u001b[0m \u001b[0;34m=\u001b[0m \u001b[0mkwds\u001b[0m\u001b[0;34m[\u001b[0m\u001b[0;34m\"has_index_names\"\u001b[0m\u001b[0;34m]\u001b[0m\u001b[0;34m\u001b[0m\u001b[0;34m\u001b[0m\u001b[0m\n\u001b[1;32m    810\u001b[0m \u001b[0;34m\u001b[0m\u001b[0m\n\u001b[0;32m--> 811\u001b[0;31m         \u001b[0mself\u001b[0m\u001b[0;34m.\u001b[0m\u001b[0m_engine\u001b[0m \u001b[0;34m=\u001b[0m \u001b[0mself\u001b[0m\u001b[0;34m.\u001b[0m\u001b[0m_make_engine\u001b[0m\u001b[0;34m(\u001b[0m\u001b[0mself\u001b[0m\u001b[0;34m.\u001b[0m\u001b[0mengine\u001b[0m\u001b[0;34m)\u001b[0m\u001b[0;34m\u001b[0m\u001b[0;34m\u001b[0m\u001b[0m\n\u001b[0m\u001b[1;32m    812\u001b[0m \u001b[0;34m\u001b[0m\u001b[0m\n\u001b[1;32m    813\u001b[0m     \u001b[0;32mdef\u001b[0m \u001b[0mclose\u001b[0m\u001b[0;34m(\u001b[0m\u001b[0mself\u001b[0m\u001b[0;34m)\u001b[0m\u001b[0;34m:\u001b[0m\u001b[0;34m\u001b[0m\u001b[0;34m\u001b[0m\u001b[0m\n",
      "\u001b[0;32m~/miniforge3/envs/price-prediction/lib/python3.9/site-packages/pandas/io/parsers/readers.py\u001b[0m in \u001b[0;36m_make_engine\u001b[0;34m(self, engine)\u001b[0m\n\u001b[1;32m   1038\u001b[0m             )\n\u001b[1;32m   1039\u001b[0m         \u001b[0;31m# error: Too many arguments for \"ParserBase\"\u001b[0m\u001b[0;34m\u001b[0m\u001b[0;34m\u001b[0m\u001b[0m\n\u001b[0;32m-> 1040\u001b[0;31m         \u001b[0;32mreturn\u001b[0m \u001b[0mmapping\u001b[0m\u001b[0;34m[\u001b[0m\u001b[0mengine\u001b[0m\u001b[0;34m]\u001b[0m\u001b[0;34m(\u001b[0m\u001b[0mself\u001b[0m\u001b[0;34m.\u001b[0m\u001b[0mf\u001b[0m\u001b[0;34m,\u001b[0m \u001b[0;34m**\u001b[0m\u001b[0mself\u001b[0m\u001b[0;34m.\u001b[0m\u001b[0moptions\u001b[0m\u001b[0;34m)\u001b[0m  \u001b[0;31m# type: ignore[call-arg]\u001b[0m\u001b[0;34m\u001b[0m\u001b[0;34m\u001b[0m\u001b[0m\n\u001b[0m\u001b[1;32m   1041\u001b[0m \u001b[0;34m\u001b[0m\u001b[0m\n\u001b[1;32m   1042\u001b[0m     \u001b[0;32mdef\u001b[0m \u001b[0m_failover_to_python\u001b[0m\u001b[0;34m(\u001b[0m\u001b[0mself\u001b[0m\u001b[0;34m)\u001b[0m\u001b[0;34m:\u001b[0m\u001b[0;34m\u001b[0m\u001b[0;34m\u001b[0m\u001b[0m\n",
      "\u001b[0;32m~/miniforge3/envs/price-prediction/lib/python3.9/site-packages/pandas/io/parsers/c_parser_wrapper.py\u001b[0m in \u001b[0;36m__init__\u001b[0;34m(self, src, **kwds)\u001b[0m\n\u001b[1;32m     49\u001b[0m \u001b[0;34m\u001b[0m\u001b[0m\n\u001b[1;32m     50\u001b[0m         \u001b[0;31m# open handles\u001b[0m\u001b[0;34m\u001b[0m\u001b[0;34m\u001b[0m\u001b[0m\n\u001b[0;32m---> 51\u001b[0;31m         \u001b[0mself\u001b[0m\u001b[0;34m.\u001b[0m\u001b[0m_open_handles\u001b[0m\u001b[0;34m(\u001b[0m\u001b[0msrc\u001b[0m\u001b[0;34m,\u001b[0m \u001b[0mkwds\u001b[0m\u001b[0;34m)\u001b[0m\u001b[0;34m\u001b[0m\u001b[0;34m\u001b[0m\u001b[0m\n\u001b[0m\u001b[1;32m     52\u001b[0m         \u001b[0;32massert\u001b[0m \u001b[0mself\u001b[0m\u001b[0;34m.\u001b[0m\u001b[0mhandles\u001b[0m \u001b[0;32mis\u001b[0m \u001b[0;32mnot\u001b[0m \u001b[0;32mNone\u001b[0m\u001b[0;34m\u001b[0m\u001b[0;34m\u001b[0m\u001b[0m\n\u001b[1;32m     53\u001b[0m \u001b[0;34m\u001b[0m\u001b[0m\n",
      "\u001b[0;32m~/miniforge3/envs/price-prediction/lib/python3.9/site-packages/pandas/io/parsers/base_parser.py\u001b[0m in \u001b[0;36m_open_handles\u001b[0;34m(self, src, kwds)\u001b[0m\n\u001b[1;32m    220\u001b[0m         \u001b[0mLet\u001b[0m \u001b[0mthe\u001b[0m \u001b[0mreaders\u001b[0m \u001b[0mopen\u001b[0m \u001b[0mIOHandles\u001b[0m \u001b[0mafter\u001b[0m \u001b[0mthey\u001b[0m \u001b[0mare\u001b[0m \u001b[0mdone\u001b[0m \u001b[0;32mwith\u001b[0m \u001b[0mtheir\u001b[0m \u001b[0mpotential\u001b[0m \u001b[0mraises\u001b[0m\u001b[0;34m.\u001b[0m\u001b[0;34m\u001b[0m\u001b[0;34m\u001b[0m\u001b[0m\n\u001b[1;32m    221\u001b[0m         \"\"\"\n\u001b[0;32m--> 222\u001b[0;31m         self.handles = get_handle(\n\u001b[0m\u001b[1;32m    223\u001b[0m             \u001b[0msrc\u001b[0m\u001b[0;34m,\u001b[0m\u001b[0;34m\u001b[0m\u001b[0;34m\u001b[0m\u001b[0m\n\u001b[1;32m    224\u001b[0m             \u001b[0;34m\"r\"\u001b[0m\u001b[0;34m,\u001b[0m\u001b[0;34m\u001b[0m\u001b[0;34m\u001b[0m\u001b[0m\n",
      "\u001b[0;32m~/miniforge3/envs/price-prediction/lib/python3.9/site-packages/pandas/io/common.py\u001b[0m in \u001b[0;36mget_handle\u001b[0;34m(path_or_buf, mode, encoding, compression, memory_map, is_text, errors, storage_options)\u001b[0m\n\u001b[1;32m    700\u001b[0m         \u001b[0;32mif\u001b[0m \u001b[0mioargs\u001b[0m\u001b[0;34m.\u001b[0m\u001b[0mencoding\u001b[0m \u001b[0;32mand\u001b[0m \u001b[0;34m\"b\"\u001b[0m \u001b[0;32mnot\u001b[0m \u001b[0;32min\u001b[0m \u001b[0mioargs\u001b[0m\u001b[0;34m.\u001b[0m\u001b[0mmode\u001b[0m\u001b[0;34m:\u001b[0m\u001b[0;34m\u001b[0m\u001b[0;34m\u001b[0m\u001b[0m\n\u001b[1;32m    701\u001b[0m             \u001b[0;31m# Encoding\u001b[0m\u001b[0;34m\u001b[0m\u001b[0;34m\u001b[0m\u001b[0m\n\u001b[0;32m--> 702\u001b[0;31m             handle = open(\n\u001b[0m\u001b[1;32m    703\u001b[0m                 \u001b[0mhandle\u001b[0m\u001b[0;34m,\u001b[0m\u001b[0;34m\u001b[0m\u001b[0;34m\u001b[0m\u001b[0m\n\u001b[1;32m    704\u001b[0m                 \u001b[0mioargs\u001b[0m\u001b[0;34m.\u001b[0m\u001b[0mmode\u001b[0m\u001b[0;34m,\u001b[0m\u001b[0;34m\u001b[0m\u001b[0;34m\u001b[0m\u001b[0m\n",
      "\u001b[0;31mFileNotFoundError\u001b[0m: [Errno 2] No such file or directory: '../data/2016-2017.txt'"
     ]
    }
   ],
   "source": [
    "#add standing\n",
    "data_2016_2017 = pd.read_csv('https://query.data.world/s/r5gdp7ga24tokmbwgk2fi7mekndsze')\n",
    "data_2017_2018 = pd.read_csv('https://query.data.world/s/r3n4zit4rb4tqs4lnabptudresgnyr').drop(columns = ['Div'])\n",
    "data_2018_2019 = pd.read_csv('https://query.data.world/s/2wp65h24cyeljfcp4dnvsml46dwsla').drop(columns = ['Div'])\n",
    "\n",
    "data_more = pd.concat([pd.read_csv(f'../data/{path}', sep = ',') for path in ['2016-2017.txt', '2017-2018.txt', '2018-2019.txt']])\n",
    "data_more['Date'] = pd.to_datetime(data_more['Date'])\n",
    "data_more = data_more.sort_values('Date')\n",
    "\n",
    "data = pd.concat([data_2016_2017, data_2017_2018, data_2018_2019])\n",
    "data['Date'] = pd.to_datetime(data['Date'])\n",
    "data = data.sort_values('Date')\n",
    "data = data.merge(data_more[[\n",
    "    'Date', 'HomeTeam', 'AwayTeam', 'B365H', 'B365D', 'B365A']])\n",
    "data['Bet_pred'] = data[['B365A', 'B365D', 'B365H']].apply(lambda x: np.argmin(x.values), axis = 1)\n",
    "data.index = range(len(data))"
   ]
  },
  {
   "cell_type": "code",
   "execution_count": null,
   "id": "c14a37f8",
   "metadata": {},
   "outputs": [],
   "source": [
    "data"
   ]
  },
  {
   "cell_type": "markdown",
   "id": "0b84c4d2",
   "metadata": {},
   "source": [
    "fthg - Full Time Home goals\n",
    "\n",
    "ftag - Full Time Away goals\n",
    "\n",
    "ftr - Full Time result (Away, Home, Draw)\n",
    "\n",
    "hthg - Halftime Home goals\n",
    "\n",
    "htag - Halftime Away goals\n",
    "\n",
    "htr - Halftime result (Away, Home, Draw)\n",
    "\n",
    "referee - The jabroni in charge\n",
    "\n",
    "hs - Home Shots\n",
    "\n",
    "as - Away Shots\n",
    "\n",
    "hst - Home Shots on target\n",
    "\n",
    "ast - Away Shots on target\n",
    "\n",
    "hf - Home Fouls\n",
    "\n",
    "af - Away Fouls\n",
    "\n",
    "hc - Home Corners\n",
    "\n",
    "ac - Away Corners\n",
    "\n",
    "hy - Home Yellow cards\n",
    "\n",
    "ay - Away Yellow cards\n",
    "\n",
    "hr - Home Red cards\n",
    "\n",
    "ar - Away Red cards"
   ]
  },
  {
   "cell_type": "code",
   "execution_count": 1005,
   "id": "38c22269",
   "metadata": {},
   "outputs": [],
   "source": [
    "def prepare_dataset(df, window_size = WINDOW_SIZE):\n",
    "    def get_stats(row, home = True):\n",
    "        team_loc = 'HomeTeam' if home else 'AwayTeam'\n",
    "        \n",
    "        res_arr = np.empty((len(columns), window_size), dtype = 'object')\n",
    "        res_arr[:] = np.nan\n",
    "        \n",
    "        res = (\n",
    "            df[\n",
    "                (df['Date'] < row['Date'])\n",
    "                 & (df[team_loc] == row[team_loc])\n",
    "            ]\n",
    "            .iloc[-window_size:]\n",
    "            [columns]\n",
    "            .values\n",
    "            .transpose()\n",
    "        )\n",
    "        \n",
    "        if res.shape[1]:\n",
    "            res_arr[:, :res.shape[1]] = res\n",
    "        return res_arr.ravel()\n",
    "    \n",
    "    columns = [\n",
    "            'FTR', 'FTHG', 'FTAG', 'HS', 'AS', 'HF',\n",
    "            'AF', 'HC', 'AC', 'HY', 'AY', 'HR', 'AR'\n",
    "        ]\n",
    "    new_columns = list(reduce(lambda x, y: x+y, \n",
    "                         [[f'{col}_{i}' for i in range(window_size, 0, -1)] for col in columns]))\n",
    "    new_columns_home = list(map(lambda x: x+'_home', new_columns))\n",
    "    new_columns_away = list(map(lambda x: x+'_away', new_columns))\n",
    "            \n",
    "    df[new_columns_home] = np.vstack(df.apply(get_stats, axis = 1, home = True).values)\n",
    "    df[new_columns_away] = np.vstack(df.apply(get_stats, axis = 1, home = False).values)\n",
    "    \n",
    "    df = df.drop(columns = [\n",
    "        'Date', 'FTHG', 'FTAG', 'HS', 'AS', 'HF',\n",
    "        'AF', 'HC', 'AC', 'HY', 'AY', 'HR', 'AR',\n",
    "        'HTHG', 'HTAG', 'HTR', 'HST', 'AST'\n",
    "    ])\n",
    "    df = df.dropna()\n",
    "    return df"
   ]
  },
  {
   "cell_type": "code",
   "execution_count": 1006,
   "id": "8950bcd0",
   "metadata": {},
   "outputs": [],
   "source": [
    "enc_dict = defaultdict(LabelEncoder)"
   ]
  },
  {
   "cell_type": "code",
   "execution_count": 1007,
   "id": "dc952d9f",
   "metadata": {},
   "outputs": [],
   "source": [
    "df = prepare_dataset(data)\n",
    "\n",
    "df['HomeTeam'] = enc_dict['team'].fit_transform(df['HomeTeam'])\n",
    "df['AwayTeam'] = enc_dict['team'].transform(df['AwayTeam'])\n",
    "df['Referee'] = enc_dict['Referee'].fit_transform(df['Referee'])\n",
    "df['FTR'] = enc_dict['FTR'].fit_transform(df['FTR'])\n",
    "df[[f'FTR_{i}_home' for i in range(WINDOW_SIZE, 0, -1)]] = (\n",
    "    df[[f'FTR_{i}_home' for i in range(WINDOW_SIZE, 0, -1)]]\n",
    "    .apply(lambda x: enc_dict['FTR'].transform(x))\n",
    ")\n",
    "df[[f'FTR_{i}_away' for i in range(WINDOW_SIZE, 0, -1)]] = (\n",
    "    df[[f'FTR_{i}_away' for i in range(WINDOW_SIZE, 0, -1)]]\n",
    "    .apply(lambda x: enc_dict['FTR'].transform(x))\n",
    ")"
   ]
  },
  {
   "cell_type": "code",
   "execution_count": 988,
   "id": "e210b00b",
   "metadata": {},
   "outputs": [],
   "source": [
    "# train = df.iloc[:-int(df.shape[0]*VAL_SIZE)]\n",
    "# val = df.iloc[-int(df.shape[0]*VAL_SIZE):]\n",
    "\n",
    "# X_train, X_val = train.drop(columns = ['FTR']), val.drop(columns = ['FTR'])\n",
    "# y_train, y_val = train['FTR'], val['FTR']"
   ]
  },
  {
   "cell_type": "code",
   "execution_count": 1050,
   "id": "141262b6",
   "metadata": {},
   "outputs": [],
   "source": [
    "skf = KFold(5)\n",
    "df.index = range(len(df))\n",
    "X = df.drop(columns = ['FTR'])\n",
    "y = df['FTR']\n",
    "scores = []\n",
    "bet_scores = []\n",
    "\n",
    "for train_indx, val_indx in skf.split(X, y):\n",
    "    X_train, y_train = X.iloc[train_indx], y.iloc[train_indx]\n",
    "    X_val, y_val = X.iloc[val_indx], y.iloc[val_indx]\n",
    "    \n",
    "    forest = RandomForestClassifier(n_estimators=300, max_depth=4, random_state=42)\n",
    "    forest.fit(X_train, y_train)\n",
    "    scores.append(accuracy_score(forest.predict(X_val), y_val))\n",
    "    bet_scores.append(accuracy_score(X_val['Bet_pred'], y_val))"
   ]
  },
  {
   "cell_type": "code",
   "execution_count": 1051,
   "id": "82557592",
   "metadata": {},
   "outputs": [
    {
     "data": {
      "text/plain": [
       "(0.5856410256410257, 0.5846153846153845)"
      ]
     },
     "execution_count": 1051,
     "metadata": {},
     "output_type": "execute_result"
    }
   ],
   "source": [
    "np.array(scores).mean(), np.array(bet_scores).mean()"
   ]
  },
  {
   "cell_type": "code",
   "execution_count": 1000,
   "id": "d983d629",
   "metadata": {},
   "outputs": [
    {
     "name": "stdout",
     "output_type": "stream",
     "text": [
      "forest 0.5948717948717949\n",
      "lgbm 0.5128205128205128\n",
      "random 0.2717948717948718\n",
      "most frequent 0.5128205128205128\n",
      "bet prediction 0.5846153846153846\n"
     ]
    }
   ],
   "source": [
    "print('forest', accuracy_score(forest.predict(X_val), y_val))\n",
    "print('lgbm', accuracy_score(gbm.predict(X_val.values), y_val))\n",
    "print('random', accuracy_score(np.random.randint(0, 3, size= (val.shape[0])), y_val))\n",
    "print('most frequent', accuracy_score(np.ones(val.shape[0])*2, y_val))\n",
    "print('bet prediction', accuracy_score(X_val['Bet_pred'], y_val))\n",
    "#5794"
   ]
  },
  {
   "cell_type": "code",
   "execution_count": 1053,
   "id": "0f6896dd",
   "metadata": {},
   "outputs": [
    {
     "data": {
      "text/plain": [
       "['forest.joblib']"
      ]
     },
     "execution_count": 1053,
     "metadata": {},
     "output_type": "execute_result"
    }
   ],
   "source": [
    "from joblib import dump, load\n",
    "dump(forest, 'forest.joblib')"
   ]
  },
  {
   "cell_type": "code",
   "execution_count": 159,
   "id": "d2332d5a",
   "metadata": {},
   "outputs": [],
   "source": [
    "#will be using soccer data and predict outcome\n",
    "#collect data and store it in sql database"
   ]
  },
  {
   "cell_type": "code",
   "execution_count": 161,
   "id": "88cb683c",
   "metadata": {},
   "outputs": [],
   "source": [
    "# 2016-2017 https://query.data.world/s/r5gdp7ga24tokmbwgk2fi7mekndsze\n",
    "# 2017-2018 https://query.data.world/s/r3n4zit4rb4tqs4lnabptudresgnyr\n",
    "# 2018-2019 https://query.data.world/s/2wp65h24cyeljfcp4dnvsml46dwsla\n",
    "#info about columns could be found in https://data.world/datasets/soccer"
   ]
  },
  {
   "cell_type": "code",
   "execution_count": null,
   "id": "ccf9ea1e",
   "metadata": {},
   "outputs": [],
   "source": [
    "#https://www.premierleague.com/results?team=FIRST&co=1&se=363&cl=-1\n",
    "#https://www.flashscore.ru/match/Ysr0GpAj/#match-summary/match-summary\n",
    "#https://www.football-data.co.uk/englandm.php"
   ]
  },
  {
   "cell_type": "code",
   "execution_count": 1055,
   "id": "2e823daf",
   "metadata": {},
   "outputs": [
    {
     "data": {
      "text/plain": [
       "['HomeTeam',\n",
       " 'AwayTeam',\n",
       " 'FTR',\n",
       " 'Referee',\n",
       " 'B365H',\n",
       " 'B365D',\n",
       " 'B365A',\n",
       " 'Bet_pred',\n",
       " 'FTR_5_home',\n",
       " 'FTR_4_home',\n",
       " 'FTR_3_home',\n",
       " 'FTR_2_home',\n",
       " 'FTR_1_home',\n",
       " 'FTHG_5_home',\n",
       " 'FTHG_4_home',\n",
       " 'FTHG_3_home',\n",
       " 'FTHG_2_home',\n",
       " 'FTHG_1_home',\n",
       " 'FTAG_5_home',\n",
       " 'FTAG_4_home',\n",
       " 'FTAG_3_home',\n",
       " 'FTAG_2_home',\n",
       " 'FTAG_1_home',\n",
       " 'HS_5_home',\n",
       " 'HS_4_home',\n",
       " 'HS_3_home',\n",
       " 'HS_2_home',\n",
       " 'HS_1_home',\n",
       " 'AS_5_home',\n",
       " 'AS_4_home',\n",
       " 'AS_3_home',\n",
       " 'AS_2_home',\n",
       " 'AS_1_home',\n",
       " 'HF_5_home',\n",
       " 'HF_4_home',\n",
       " 'HF_3_home',\n",
       " 'HF_2_home',\n",
       " 'HF_1_home',\n",
       " 'AF_5_home',\n",
       " 'AF_4_home',\n",
       " 'AF_3_home',\n",
       " 'AF_2_home',\n",
       " 'AF_1_home',\n",
       " 'HC_5_home',\n",
       " 'HC_4_home',\n",
       " 'HC_3_home',\n",
       " 'HC_2_home',\n",
       " 'HC_1_home',\n",
       " 'AC_5_home',\n",
       " 'AC_4_home',\n",
       " 'AC_3_home',\n",
       " 'AC_2_home',\n",
       " 'AC_1_home',\n",
       " 'HY_5_home',\n",
       " 'HY_4_home',\n",
       " 'HY_3_home',\n",
       " 'HY_2_home',\n",
       " 'HY_1_home',\n",
       " 'AY_5_home',\n",
       " 'AY_4_home',\n",
       " 'AY_3_home',\n",
       " 'AY_2_home',\n",
       " 'AY_1_home',\n",
       " 'HR_5_home',\n",
       " 'HR_4_home',\n",
       " 'HR_3_home',\n",
       " 'HR_2_home',\n",
       " 'HR_1_home',\n",
       " 'AR_5_home',\n",
       " 'AR_4_home',\n",
       " 'AR_3_home',\n",
       " 'AR_2_home',\n",
       " 'AR_1_home',\n",
       " 'FTR_5_away',\n",
       " 'FTR_4_away',\n",
       " 'FTR_3_away',\n",
       " 'FTR_2_away',\n",
       " 'FTR_1_away',\n",
       " 'FTHG_5_away',\n",
       " 'FTHG_4_away',\n",
       " 'FTHG_3_away',\n",
       " 'FTHG_2_away',\n",
       " 'FTHG_1_away',\n",
       " 'FTAG_5_away',\n",
       " 'FTAG_4_away',\n",
       " 'FTAG_3_away',\n",
       " 'FTAG_2_away',\n",
       " 'FTAG_1_away',\n",
       " 'HS_5_away',\n",
       " 'HS_4_away',\n",
       " 'HS_3_away',\n",
       " 'HS_2_away',\n",
       " 'HS_1_away',\n",
       " 'AS_5_away',\n",
       " 'AS_4_away',\n",
       " 'AS_3_away',\n",
       " 'AS_2_away',\n",
       " 'AS_1_away',\n",
       " 'HF_5_away',\n",
       " 'HF_4_away',\n",
       " 'HF_3_away',\n",
       " 'HF_2_away',\n",
       " 'HF_1_away',\n",
       " 'AF_5_away',\n",
       " 'AF_4_away',\n",
       " 'AF_3_away',\n",
       " 'AF_2_away',\n",
       " 'AF_1_away',\n",
       " 'HC_5_away',\n",
       " 'HC_4_away',\n",
       " 'HC_3_away',\n",
       " 'HC_2_away',\n",
       " 'HC_1_away',\n",
       " 'AC_5_away',\n",
       " 'AC_4_away',\n",
       " 'AC_3_away',\n",
       " 'AC_2_away',\n",
       " 'AC_1_away',\n",
       " 'HY_5_away',\n",
       " 'HY_4_away',\n",
       " 'HY_3_away',\n",
       " 'HY_2_away',\n",
       " 'HY_1_away',\n",
       " 'AY_5_away',\n",
       " 'AY_4_away',\n",
       " 'AY_3_away',\n",
       " 'AY_2_away',\n",
       " 'AY_1_away',\n",
       " 'HR_5_away',\n",
       " 'HR_4_away',\n",
       " 'HR_3_away',\n",
       " 'HR_2_away',\n",
       " 'HR_1_away',\n",
       " 'AR_5_away',\n",
       " 'AR_4_away',\n",
       " 'AR_3_away',\n",
       " 'AR_2_away',\n",
       " 'AR_1_away']"
      ]
     },
     "execution_count": 1055,
     "metadata": {},
     "output_type": "execute_result"
    }
   ],
   "source": [
    "list(df.columns)"
   ]
  },
  {
   "cell_type": "code",
   "execution_count": null,
   "id": "be9e6ee9",
   "metadata": {},
   "outputs": [],
   "source": []
  }
 ],
 "metadata": {
  "kernelspec": {
   "display_name": "Python 3 (ipykernel)",
   "language": "python",
   "name": "python3"
  },
  "language_info": {
   "codemirror_mode": {
    "name": "ipython",
    "version": 3
   },
   "file_extension": ".py",
   "mimetype": "text/x-python",
   "name": "python",
   "nbconvert_exporter": "python",
   "pygments_lexer": "ipython3",
   "version": "3.9.7"
  }
 },
 "nbformat": 4,
 "nbformat_minor": 5
}
